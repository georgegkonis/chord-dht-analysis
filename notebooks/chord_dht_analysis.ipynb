{
 "cells": [
  {
   "metadata": {},
   "cell_type": "markdown",
   "source": "# Chord DHT Analysis",
   "id": "700e619fa984c69a"
  },
  {
   "metadata": {},
   "cell_type": "markdown",
   "source": "## Load the data",
   "id": "4cbcc46121a62ee5"
  },
  {
   "metadata": {
    "ExecuteTime": {
     "end_time": "2024-06-25T16:02:28.045530Z",
     "start_time": "2024-06-25T16:02:28.010509Z"
    }
   },
   "cell_type": "code",
   "source": [
    "import ast\n",
    "\n",
    "import pandas as pd\n",
    "\n",
    "df = pd.read_csv('../data/computer_scientists.pp.csv')\n",
    "\n",
    "# Keep only the last names, the first education and the number of awards of each scientist.\n",
    "df['name'] = df['name'].apply(lambda x: x.split(' ')[-1])\n",
    "df['education'] = df['education'].apply(ast.literal_eval).apply(lambda x: x[0] if x else None)\n",
    "df['awards'] = df['awards'].apply(ast.literal_eval).apply(lambda x: len(x))\n",
    "\n",
    "# Drop all rows with missing values in the education column.\n",
    "df = df.dropna(subset=[\"education\"], ignore_index=True)\n",
    "\n",
    "df"
   ],
   "id": "68f390b40dd1dc12",
   "outputs": [
    {
     "data": {
      "text/plain": [
       "            name                           education  awards\n",
       "0           Khan                University of Malaya       0\n",
       "1       Aaronson                  Cornell University       4\n",
       "2          Abebe                  Cornell University       0\n",
       "3        Abelson                Princeton University       1\n",
       "4      Abiteboul   University of Southern California       6\n",
       "..           ...                                 ...     ...\n",
       "523        Zedan               University of Bristol       0\n",
       "524  Zilberstein  University of California, Berkeley       0\n",
       "525    Zimmerman                   Purdue University       0\n",
       "526   Zuckerberg                  Harvard University       0\n",
       "527         Zuse      Technical University of Berlin       6\n",
       "\n",
       "[528 rows x 3 columns]"
      ],
      "text/html": [
       "<div>\n",
       "<style scoped>\n",
       "    .dataframe tbody tr th:only-of-type {\n",
       "        vertical-align: middle;\n",
       "    }\n",
       "\n",
       "    .dataframe tbody tr th {\n",
       "        vertical-align: top;\n",
       "    }\n",
       "\n",
       "    .dataframe thead th {\n",
       "        text-align: right;\n",
       "    }\n",
       "</style>\n",
       "<table border=\"1\" class=\"dataframe\">\n",
       "  <thead>\n",
       "    <tr style=\"text-align: right;\">\n",
       "      <th></th>\n",
       "      <th>name</th>\n",
       "      <th>education</th>\n",
       "      <th>awards</th>\n",
       "    </tr>\n",
       "  </thead>\n",
       "  <tbody>\n",
       "    <tr>\n",
       "      <th>0</th>\n",
       "      <td>Khan</td>\n",
       "      <td>University of Malaya</td>\n",
       "      <td>0</td>\n",
       "    </tr>\n",
       "    <tr>\n",
       "      <th>1</th>\n",
       "      <td>Aaronson</td>\n",
       "      <td>Cornell University</td>\n",
       "      <td>4</td>\n",
       "    </tr>\n",
       "    <tr>\n",
       "      <th>2</th>\n",
       "      <td>Abebe</td>\n",
       "      <td>Cornell University</td>\n",
       "      <td>0</td>\n",
       "    </tr>\n",
       "    <tr>\n",
       "      <th>3</th>\n",
       "      <td>Abelson</td>\n",
       "      <td>Princeton University</td>\n",
       "      <td>1</td>\n",
       "    </tr>\n",
       "    <tr>\n",
       "      <th>4</th>\n",
       "      <td>Abiteboul</td>\n",
       "      <td>University of Southern California</td>\n",
       "      <td>6</td>\n",
       "    </tr>\n",
       "    <tr>\n",
       "      <th>...</th>\n",
       "      <td>...</td>\n",
       "      <td>...</td>\n",
       "      <td>...</td>\n",
       "    </tr>\n",
       "    <tr>\n",
       "      <th>523</th>\n",
       "      <td>Zedan</td>\n",
       "      <td>University of Bristol</td>\n",
       "      <td>0</td>\n",
       "    </tr>\n",
       "    <tr>\n",
       "      <th>524</th>\n",
       "      <td>Zilberstein</td>\n",
       "      <td>University of California, Berkeley</td>\n",
       "      <td>0</td>\n",
       "    </tr>\n",
       "    <tr>\n",
       "      <th>525</th>\n",
       "      <td>Zimmerman</td>\n",
       "      <td>Purdue University</td>\n",
       "      <td>0</td>\n",
       "    </tr>\n",
       "    <tr>\n",
       "      <th>526</th>\n",
       "      <td>Zuckerberg</td>\n",
       "      <td>Harvard University</td>\n",
       "      <td>0</td>\n",
       "    </tr>\n",
       "    <tr>\n",
       "      <th>527</th>\n",
       "      <td>Zuse</td>\n",
       "      <td>Technical University of Berlin</td>\n",
       "      <td>6</td>\n",
       "    </tr>\n",
       "  </tbody>\n",
       "</table>\n",
       "<p>528 rows × 3 columns</p>\n",
       "</div>"
      ]
     },
     "execution_count": 4,
     "metadata": {},
     "output_type": "execute_result"
    }
   ],
   "execution_count": 4
  },
  {
   "metadata": {},
   "cell_type": "markdown",
   "source": "## Create the Chord DHT",
   "id": "11c052d133d18cd1"
  },
  {
   "metadata": {
    "ExecuteTime": {
     "end_time": "2024-06-25T16:11:17.968839Z",
     "start_time": "2024-06-25T16:11:17.951708Z"
    }
   },
   "cell_type": "code",
   "source": [
    "from chord_dht.chord import Chord\n",
    "\n",
    "chord = Chord(m=2)\n",
    "\n",
    "chord.node_join(1)"
   ],
   "id": "b23f02a8e1c7d4ff",
   "outputs": [
    {
     "name": "stdout",
     "output_type": "stream",
     "text": [
      "Node 1 joining the ring.\n",
      "Node 1 joining the ring.\n"
     ]
    },
    {
     "data": {
      "text/plain": [
       "<src.chord_dht.chord_node.ChordNode at 0x20c6d0a7d90>"
      ]
     },
     "execution_count": 12,
     "metadata": {},
     "output_type": "execute_result"
    }
   ],
   "execution_count": 12
  },
  {
   "metadata": {},
   "cell_type": "markdown",
   "source": "## Benchmark the Chord DHT",
   "id": "7b99789458858575"
  },
  {
   "metadata": {
    "ExecuteTime": {
     "end_time": "2024-06-22T10:56:55.543693Z",
     "start_time": "2024-06-22T10:56:55.540583Z"
    }
   },
   "cell_type": "code",
   "source": "",
   "id": "3a48d9389ae490f8",
   "outputs": [],
   "execution_count": null
  },
  {
   "metadata": {},
   "cell_type": "markdown",
   "source": "### Insertion",
   "id": "82f64efc6f547f9c"
  },
  {
   "metadata": {},
   "cell_type": "code",
   "outputs": [],
   "execution_count": null,
   "source": "",
   "id": "73e5d454b6b32bd5"
  },
  {
   "metadata": {},
   "cell_type": "markdown",
   "source": "### Lookup",
   "id": "8ff4b9e36431192e"
  },
  {
   "metadata": {},
   "cell_type": "code",
   "outputs": [],
   "execution_count": null,
   "source": "",
   "id": "d5ee49e77fd4ddc6"
  },
  {
   "metadata": {},
   "cell_type": "markdown",
   "source": "### Deletion",
   "id": "1d5c3901a6bbae88"
  },
  {
   "metadata": {},
   "cell_type": "code",
   "outputs": [],
   "execution_count": null,
   "source": "",
   "id": "2bd43527ebf1f29d"
  }
 ],
 "metadata": {
  "kernelspec": {
   "display_name": "Python 3",
   "language": "python",
   "name": "python3"
  },
  "language_info": {
   "codemirror_mode": {
    "name": "ipython",
    "version": 2
   },
   "file_extension": ".py",
   "mimetype": "text/x-python",
   "name": "python",
   "nbconvert_exporter": "python",
   "pygments_lexer": "ipython2",
   "version": "2.7.6"
  }
 },
 "nbformat": 4,
 "nbformat_minor": 5
}
