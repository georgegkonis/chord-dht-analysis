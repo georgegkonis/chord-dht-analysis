{
 "cells": [
  {
   "cell_type": "markdown",
   "id": "d3ea1d851ad02ca3",
   "metadata": {},
   "source": [
    "# Chord DHT Analysis"
   ]
  },
  {
   "cell_type": "markdown",
   "id": "acd73ad677874fc9",
   "metadata": {},
   "source": [
    "## Load the data"
   ]
  },
  {
   "cell_type": "code",
   "id": "68f390b40dd1dc12",
   "metadata": {
    "tags": [],
    "ExecuteTime": {
     "end_time": "2024-09-20T17:24:55.018136Z",
     "start_time": "2024-09-20T17:24:53.863048Z"
    }
   },
   "source": [
    "import ast\n",
    "\n",
    "import pandas as pd\n",
    "\n",
    "df = pd.read_csv('../data/computer_scientists.pp.csv')\n",
    "\n",
    "# Keep only the last names, the first education and the number of awards of each scientist.\n",
    "df['name'] = df['name'].apply(lambda x: x.split(' ')[-1])\n",
    "df['education'] = df['education'].apply(ast.literal_eval).apply(lambda x: x[0] if x else None)\n",
    "df['awards'] = df['awards'].apply(ast.literal_eval).apply(lambda x: len(x))\n",
    "\n",
    "# Drop all rows with missing values in the education column.\n",
    "df = df.dropna(subset=[\"education\"], ignore_index=True)\n",
    "\n",
    "df"
   ],
   "outputs": [
    {
     "data": {
      "text/plain": [
       "            name                           education  awards\n",
       "0           Khan                University of Malaya       0\n",
       "1       Aaronson                  Cornell University       4\n",
       "2          Abebe                  Cornell University       0\n",
       "3        Abelson                Princeton University       1\n",
       "4      Abiteboul   University of Southern California       6\n",
       "..           ...                                 ...     ...\n",
       "523        Zedan               University of Bristol       0\n",
       "524  Zilberstein  University of California, Berkeley       0\n",
       "525    Zimmerman                   Purdue University       0\n",
       "526   Zuckerberg                  Harvard University       0\n",
       "527         Zuse      Technical University of Berlin       6\n",
       "\n",
       "[528 rows x 3 columns]"
      ],
      "text/html": [
       "<div>\n",
       "<style scoped>\n",
       "    .dataframe tbody tr th:only-of-type {\n",
       "        vertical-align: middle;\n",
       "    }\n",
       "\n",
       "    .dataframe tbody tr th {\n",
       "        vertical-align: top;\n",
       "    }\n",
       "\n",
       "    .dataframe thead th {\n",
       "        text-align: right;\n",
       "    }\n",
       "</style>\n",
       "<table border=\"1\" class=\"dataframe\">\n",
       "  <thead>\n",
       "    <tr style=\"text-align: right;\">\n",
       "      <th></th>\n",
       "      <th>name</th>\n",
       "      <th>education</th>\n",
       "      <th>awards</th>\n",
       "    </tr>\n",
       "  </thead>\n",
       "  <tbody>\n",
       "    <tr>\n",
       "      <th>0</th>\n",
       "      <td>Khan</td>\n",
       "      <td>University of Malaya</td>\n",
       "      <td>0</td>\n",
       "    </tr>\n",
       "    <tr>\n",
       "      <th>1</th>\n",
       "      <td>Aaronson</td>\n",
       "      <td>Cornell University</td>\n",
       "      <td>4</td>\n",
       "    </tr>\n",
       "    <tr>\n",
       "      <th>2</th>\n",
       "      <td>Abebe</td>\n",
       "      <td>Cornell University</td>\n",
       "      <td>0</td>\n",
       "    </tr>\n",
       "    <tr>\n",
       "      <th>3</th>\n",
       "      <td>Abelson</td>\n",
       "      <td>Princeton University</td>\n",
       "      <td>1</td>\n",
       "    </tr>\n",
       "    <tr>\n",
       "      <th>4</th>\n",
       "      <td>Abiteboul</td>\n",
       "      <td>University of Southern California</td>\n",
       "      <td>6</td>\n",
       "    </tr>\n",
       "    <tr>\n",
       "      <th>...</th>\n",
       "      <td>...</td>\n",
       "      <td>...</td>\n",
       "      <td>...</td>\n",
       "    </tr>\n",
       "    <tr>\n",
       "      <th>523</th>\n",
       "      <td>Zedan</td>\n",
       "      <td>University of Bristol</td>\n",
       "      <td>0</td>\n",
       "    </tr>\n",
       "    <tr>\n",
       "      <th>524</th>\n",
       "      <td>Zilberstein</td>\n",
       "      <td>University of California, Berkeley</td>\n",
       "      <td>0</td>\n",
       "    </tr>\n",
       "    <tr>\n",
       "      <th>525</th>\n",
       "      <td>Zimmerman</td>\n",
       "      <td>Purdue University</td>\n",
       "      <td>0</td>\n",
       "    </tr>\n",
       "    <tr>\n",
       "      <th>526</th>\n",
       "      <td>Zuckerberg</td>\n",
       "      <td>Harvard University</td>\n",
       "      <td>0</td>\n",
       "    </tr>\n",
       "    <tr>\n",
       "      <th>527</th>\n",
       "      <td>Zuse</td>\n",
       "      <td>Technical University of Berlin</td>\n",
       "      <td>6</td>\n",
       "    </tr>\n",
       "  </tbody>\n",
       "</table>\n",
       "<p>528 rows × 3 columns</p>\n",
       "</div>"
      ]
     },
     "execution_count": 1,
     "metadata": {},
     "output_type": "execute_result"
    }
   ],
   "execution_count": 1
  },
  {
   "cell_type": "markdown",
   "id": "11c052d133d18cd1",
   "metadata": {},
   "source": "## Benchmark the Chord DHT"
  },
  {
   "cell_type": "code",
   "id": "b23f02a8e1c7d4ff",
   "metadata": {
    "ExecuteTime": {
     "end_time": "2024-09-20T17:28:35.794817Z",
     "start_time": "2024-09-20T17:28:33.689966Z"
    }
   },
   "source": [
    "from src.chord_dht.chord import Chord\n",
    "import logging\n",
    "\n",
    "logging.disable()\n",
    "\n",
    "M = [1, 2, 4, 8]\n",
    "\n",
    "chords = {m: Chord(m) for m in M}\n",
    "\n",
    "for m, chord in chords.items():\n",
    "    for i in range(2 ** m):\n",
    "        chord.join(i)"
   ],
   "outputs": [],
   "execution_count": 3
  },
  {
   "cell_type": "markdown",
   "id": "7b99789458858575",
   "metadata": {},
   "source": "### Insert"
  },
  {
   "cell_type": "code",
   "id": "3a48d9389ae490f8",
   "metadata": {
    "ExecuteTime": {
     "end_time": "2024-09-20T17:28:36.837537Z",
     "start_time": "2024-09-20T17:28:36.720947Z"
    }
   },
   "source": [
    "for _, row in df.iterrows():\n",
    "    for m, chord in chords.items():\n",
    "        chord.insert(row['education'], {'name': row['name'], 'awards': row['awards']})"
   ],
   "outputs": [],
   "execution_count": 4
  },
  {
   "cell_type": "markdown",
   "id": "82f64efc6f547f9c",
   "metadata": {},
   "source": "### Lookup"
  },
  {
   "cell_type": "code",
   "id": "73e5d454b6b32bd5",
   "metadata": {
    "ExecuteTime": {
     "end_time": "2024-09-20T17:28:52.089895Z",
     "start_time": "2024-09-20T17:28:52.070256Z"
    }
   },
   "source": [
    "from decimal import Decimal, getcontext\n",
    "import time\n",
    "\n",
    "# Set the precision (number of significant digits)\n",
    "getcontext().prec = 50\n",
    "\n",
    "key = 'Yale University'\n",
    "\n",
    "for m, chord in chords.items():\n",
    "    t1 = Decimal(time.time())\n",
    "    value = chord.lookup(key)\n",
    "    t2 = Decimal(time.time())\n",
    "\n",
    "    elapsed_time = t2 - t1\n",
    "    print(f'{m} bits: {value} {elapsed_time} seconds')"
   ],
   "outputs": [
    {
     "name": "stdout",
     "output_type": "stream",
     "text": [
      "1 bits: None 0E-21 seconds\n",
      "2 bits: None 0E-21 seconds\n",
      "4 bits: None 0E-21 seconds\n",
      "8 bits: None 0E-21 seconds\n"
     ]
    }
   ],
   "execution_count": 6
  },
  {
   "cell_type": "markdown",
   "id": "8ff4b9e36431192e",
   "metadata": {},
   "source": "### Deletion"
  },
  {
   "cell_type": "code",
   "execution_count": null,
   "id": "d5ee49e77fd4ddc6",
   "metadata": {},
   "outputs": [],
   "source": []
  },
  {
   "cell_type": "markdown",
   "id": "1d5c3901a6bbae88",
   "metadata": {},
   "source": [
    "### Deletion"
   ]
  },
  {
   "cell_type": "code",
   "execution_count": null,
   "id": "2bd43527ebf1f29d",
   "metadata": {},
   "outputs": [],
   "source": []
  }
 ],
 "metadata": {
  "kernelspec": {
   "display_name": "Python 3 (ipykernel)",
   "language": "python",
   "name": "python3"
  },
  "language_info": {
   "codemirror_mode": {
    "name": "ipython",
    "version": 3
   },
   "file_extension": ".py",
   "mimetype": "text/x-python",
   "name": "python",
   "nbconvert_exporter": "python",
   "pygments_lexer": "ipython3",
   "version": "3.10.11"
  }
 },
 "nbformat": 4,
 "nbformat_minor": 5
}
