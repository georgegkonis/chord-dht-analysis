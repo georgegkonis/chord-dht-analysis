{
 "cells": [
  {
   "cell_type": "code",
   "id": "initial_id",
   "metadata": {
    "collapsed": true,
    "ExecuteTime": {
     "end_time": "2024-09-22T20:37:00.555850Z",
     "start_time": "2024-09-22T20:37:00.096033Z"
    }
   },
   "source": [
    "import ast\n",
    "import pandas as pd\n",
    "\n",
    "df = pd.read_csv('../data/computer_scientists.pp.csv')\n",
    "\n",
    "df['name'] = df['name'].apply(lambda x: x.split(' ')[-1])\n",
    "df['education'] = df['education'].apply(ast.literal_eval).apply(lambda x: x[0] if x else None)\n",
    "df['awards'] = df['awards'].apply(ast.literal_eval).apply(lambda x: len(x))\n",
    "\n",
    "df = df.dropna(subset=[\"education\"], ignore_index=True)\n",
    "\n",
    "df"
   ],
   "outputs": [
    {
     "data": {
      "text/plain": [
       "            name                           education  awards\n",
       "0           Khan                University of Malaya       0\n",
       "1       Aaronson                  Cornell University       4\n",
       "2          Abebe                  Cornell University       0\n",
       "3        Abelson                Princeton University       1\n",
       "4      Abiteboul   University of Southern California       6\n",
       "..           ...                                 ...     ...\n",
       "523        Zedan               University of Bristol       0\n",
       "524  Zilberstein  University of California, Berkeley       0\n",
       "525    Zimmerman                   Purdue University       0\n",
       "526   Zuckerberg                  Harvard University       0\n",
       "527         Zuse      Technical University of Berlin       6\n",
       "\n",
       "[528 rows x 3 columns]"
      ],
      "text/html": [
       "<div>\n",
       "<style scoped>\n",
       "    .dataframe tbody tr th:only-of-type {\n",
       "        vertical-align: middle;\n",
       "    }\n",
       "\n",
       "    .dataframe tbody tr th {\n",
       "        vertical-align: top;\n",
       "    }\n",
       "\n",
       "    .dataframe thead th {\n",
       "        text-align: right;\n",
       "    }\n",
       "</style>\n",
       "<table border=\"1\" class=\"dataframe\">\n",
       "  <thead>\n",
       "    <tr style=\"text-align: right;\">\n",
       "      <th></th>\n",
       "      <th>name</th>\n",
       "      <th>education</th>\n",
       "      <th>awards</th>\n",
       "    </tr>\n",
       "  </thead>\n",
       "  <tbody>\n",
       "    <tr>\n",
       "      <th>0</th>\n",
       "      <td>Khan</td>\n",
       "      <td>University of Malaya</td>\n",
       "      <td>0</td>\n",
       "    </tr>\n",
       "    <tr>\n",
       "      <th>1</th>\n",
       "      <td>Aaronson</td>\n",
       "      <td>Cornell University</td>\n",
       "      <td>4</td>\n",
       "    </tr>\n",
       "    <tr>\n",
       "      <th>2</th>\n",
       "      <td>Abebe</td>\n",
       "      <td>Cornell University</td>\n",
       "      <td>0</td>\n",
       "    </tr>\n",
       "    <tr>\n",
       "      <th>3</th>\n",
       "      <td>Abelson</td>\n",
       "      <td>Princeton University</td>\n",
       "      <td>1</td>\n",
       "    </tr>\n",
       "    <tr>\n",
       "      <th>4</th>\n",
       "      <td>Abiteboul</td>\n",
       "      <td>University of Southern California</td>\n",
       "      <td>6</td>\n",
       "    </tr>\n",
       "    <tr>\n",
       "      <th>...</th>\n",
       "      <td>...</td>\n",
       "      <td>...</td>\n",
       "      <td>...</td>\n",
       "    </tr>\n",
       "    <tr>\n",
       "      <th>523</th>\n",
       "      <td>Zedan</td>\n",
       "      <td>University of Bristol</td>\n",
       "      <td>0</td>\n",
       "    </tr>\n",
       "    <tr>\n",
       "      <th>524</th>\n",
       "      <td>Zilberstein</td>\n",
       "      <td>University of California, Berkeley</td>\n",
       "      <td>0</td>\n",
       "    </tr>\n",
       "    <tr>\n",
       "      <th>525</th>\n",
       "      <td>Zimmerman</td>\n",
       "      <td>Purdue University</td>\n",
       "      <td>0</td>\n",
       "    </tr>\n",
       "    <tr>\n",
       "      <th>526</th>\n",
       "      <td>Zuckerberg</td>\n",
       "      <td>Harvard University</td>\n",
       "      <td>0</td>\n",
       "    </tr>\n",
       "    <tr>\n",
       "      <th>527</th>\n",
       "      <td>Zuse</td>\n",
       "      <td>Technical University of Berlin</td>\n",
       "      <td>6</td>\n",
       "    </tr>\n",
       "  </tbody>\n",
       "</table>\n",
       "<p>528 rows × 3 columns</p>\n",
       "</div>"
      ]
     },
     "execution_count": 1,
     "metadata": {},
     "output_type": "execute_result"
    }
   ],
   "execution_count": 1
  },
  {
   "metadata": {
    "ExecuteTime": {
     "end_time": "2024-09-22T20:37:03.811287Z",
     "start_time": "2024-09-22T20:37:03.687867Z"
    }
   },
   "cell_type": "code",
   "source": [
    "import ipywidgets as widgets\n",
    "from chord_dht.chord import Chord\n",
    "\n",
    "m_slider = widgets.IntSlider(\n",
    "    value=2,\n",
    "    min=1,\n",
    "    max=5,\n",
    "    step=1,\n",
    "    description='M bits:',\n",
    "    disabled=False,\n",
    "    continuous_update=True\n",
    ")\n",
    "\n",
    "chord: Chord | None\n",
    "\n",
    "\n",
    "@widgets.interact(m=m_slider)\n",
    "def init_chord_ring(m: int):\n",
    "    global chord\n",
    "    chord = Chord(m)\n",
    "\n",
    "    for i in range(2 ** m):\n",
    "        chord.join(i)\n",
    "\n",
    "    for _, row in df.iterrows():\n",
    "        chord.insert(row['education'], {'name': row['name'], 'awards': row['awards']})\n",
    "\n",
    "    return f'Chord ring initialized with {2 ** m} nodes'"
   ],
   "id": "c1b54cde7a4857d0",
   "outputs": [
    {
     "data": {
      "text/plain": [
       "interactive(children=(IntSlider(value=2, description='M bits:', max=5, min=1), Output()), _dom_classes=('widge…"
      ],
      "application/vnd.jupyter.widget-view+json": {
       "version_major": 2,
       "version_minor": 0,
       "model_id": "7b8212d4c72646a1a60e434b70d3d11f"
      }
     },
     "metadata": {},
     "output_type": "display_data"
    }
   ],
   "execution_count": 2
  },
  {
   "metadata": {
    "ExecuteTime": {
     "end_time": "2024-09-22T20:42:49.521561Z",
     "start_time": "2024-09-22T20:42:49.447609Z"
    }
   },
   "cell_type": "code",
   "source": [
    "education_dropdown = widgets.Dropdown(\n",
    "    options=df['education'].unique().tolist(),\n",
    "    description='Education:',\n",
    "    continuous_update=True,\n",
    "    disabled=False\n",
    ")\n",
    "\n",
    "awards_range_slider = widgets.IntRangeSlider(\n",
    "    value=[0, df['awards'].max()],\n",
    "    min=0,\n",
    "    max=(df['awards'].max()),\n",
    "    step=1,\n",
    "    description='Awards:',\n",
    "    disabled=False,\n",
    "    continuous_update=True,\n",
    "    orientation='horizontal',\n",
    "    readout=True,\n",
    "    readout_format='d',\n",
    ")\n",
    "\n",
    "\n",
    "@widgets.interact(education=education_dropdown, awards=awards_range_slider)\n",
    "def lookup_scientists(education: str, awards: tuple[int, int]):\n",
    "    scientists = chord.lookup(education)\n",
    "\n",
    "    scientists = [scientist for scientist in scientists if awards[0] <= int(scientist['awards']) <= awards[1]]\n",
    "\n",
    "    return pd.DataFrame(scientists) if scientists else 'No scientists found'"
   ],
   "id": "84d44b604824b866",
   "outputs": [
    {
     "data": {
      "text/plain": [
       "interactive(children=(Dropdown(description='Education:', options=('University of Malaya', 'Cornell University'…"
      ],
      "application/vnd.jupyter.widget-view+json": {
       "version_major": 2,
       "version_minor": 0,
       "model_id": "7083cf42349e43f9943da7b11b44b74b"
      }
     },
     "metadata": {},
     "output_type": "display_data"
    }
   ],
   "execution_count": 6
  }
 ],
 "metadata": {
  "kernelspec": {
   "display_name": "Python 3",
   "language": "python",
   "name": "python3"
  },
  "language_info": {
   "codemirror_mode": {
    "name": "ipython",
    "version": 2
   },
   "file_extension": ".py",
   "mimetype": "text/x-python",
   "name": "python",
   "nbconvert_exporter": "python",
   "pygments_lexer": "ipython2",
   "version": "2.7.6"
  }
 },
 "nbformat": 4,
 "nbformat_minor": 5
}
